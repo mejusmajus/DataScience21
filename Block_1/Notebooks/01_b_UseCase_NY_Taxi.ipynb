{
 "cells": [
  {
   "cell_type": "markdown",
   "metadata": {},
   "source": [
    "# Use Case: NY Taxi Fare Prediction\n",
    "An example walk through a data science use case. Base on data from a kaggle challenge https://www.kaggle.com/c/new-york-city-taxi-fare-prediction/overview\n",
    "\n",
    "This solution is heavily inspire by a block post from [Aiswarya Ramachandran](https://medium.com/analytics-vidhya/machine-learning-to-predict-taxi-fare-part-one-exploratory-analysis-6b7e6b1fbc78) "
   ]
  },
  {
   "cell_type": "code",
   "execution_count": 1,
   "metadata": {},
   "outputs": [
    {
     "name": "stdout",
     "output_type": "stream",
     "text": [
      "Requirement already satisfied: folium in c:\\users\\myguu\\anaconda3\\lib\\site-packages (0.0.0)\n",
      "Collecting geopy\n",
      "  Downloading geopy-2.1.0-py3-none-any.whl (112 kB)\n",
      "Requirement already satisfied: jinja2>=2.9 in c:\\users\\myguu\\anaconda3\\lib\\site-packages (from folium) (2.11.2)\n",
      "Requirement already satisfied: numpy in c:\\users\\myguu\\anaconda3\\lib\\site-packages (from folium) (1.19.2)\n",
      "Requirement already satisfied: branca>=0.3.0 in c:\\users\\myguu\\anaconda3\\lib\\site-packages (from folium) (0.4.2)\n",
      "Requirement already satisfied: requests in c:\\users\\myguu\\anaconda3\\lib\\site-packages (from folium) (2.24.0)\n",
      "Collecting geographiclib<2,>=1.49\n",
      "  Downloading geographiclib-1.50-py3-none-any.whl (38 kB)\n",
      "Requirement already satisfied: MarkupSafe>=0.23 in c:\\users\\myguu\\anaconda3\\lib\\site-packages (from jinja2>=2.9->folium) (1.1.1)\n",
      "Requirement already satisfied: certifi>=2017.4.17 in c:\\users\\myguu\\anaconda3\\lib\\site-packages (from requests->folium) (2020.6.20)\n",
      "Requirement already satisfied: idna<3,>=2.5 in c:\\users\\myguu\\anaconda3\\lib\\site-packages (from requests->folium) (2.10)\n",
      "Requirement already satisfied: urllib3!=1.25.0,!=1.25.1,<1.26,>=1.21.1 in c:\\users\\myguu\\anaconda3\\lib\\site-packages (from requests->folium) (1.25.11)\n",
      "Requirement already satisfied: chardet<4,>=3.0.2 in c:\\users\\myguu\\anaconda3\\lib\\site-packages (from requests->folium) (3.0.4)\n",
      "Installing collected packages: geographiclib, geopy\n",
      "Successfully installed geographiclib-1.50 geopy-2.1.0\n"
     ]
    }
   ],
   "source": [
    "#install python libs\n",
    "!pip install folium geopy"
   ]
  },
  {
   "cell_type": "code",
   "execution_count": 2,
   "metadata": {
    "_cell_guid": "b1076dfc-b9ad-4769-8c92-a6c4dae69d19",
    "_uuid": "8f2839f25d086af736a60e9eeb907d3b93b6e0e5"
   },
   "outputs": [],
   "source": [
    "#import python libs\n",
    "import pandas as pd\n",
    "import matplotlib.pyplot as plt\n",
    "import seaborn as sns\n",
    "import numpy as np\n",
    "import warnings\n",
    "from datetime import datetime\n",
    "import calendar\n",
    "from math import sin, cos, sqrt, atan2, radians,asin\n",
    "import folium\n",
    "from folium import FeatureGroup, LayerControl, Map, Marker\n",
    "from folium.plugins import HeatMap\n",
    "from folium.plugins import TimestampedGeoJson\n",
    "from folium.plugins import MarkerCluster\n",
    "from geopy.distance import great_circle\n",
    "import matplotlib.dates as mdates\n",
    "import matplotlib as mpl\n",
    "from datetime import timedelta\n",
    "import datetime as dt\n",
    "warnings.filterwarnings('ignore')\n",
    "pd.set_option('display.max_colwidth', -1)\n",
    "plt.style.use('fivethirtyeight')\n",
    "import folium\n",
    "from sklearn.cluster import KMeans\n",
    "from sklearn import preprocessing\n",
    "from sklearn.model_selection import train_test_split\n",
    "#from sklearn.preprocessing import Imputer\n",
    "from sklearn import linear_model\n",
    "from sklearn.metrics import mean_squared_error\n",
    "from sklearn.ensemble import RandomForestRegressor\n",
    "from sklearn.linear_model import LinearRegression\n",
    "import pickle\n",
    "from geopy.distance import geodesic"
   ]
  },
  {
   "cell_type": "code",
   "execution_count": 3,
   "metadata": {
    "_cell_guid": "79c7e3d0-c299-4dcb-8224-4455121ee9b0",
    "_uuid": "d629ff2d2480ee46fbb7e2d37f6b5fab8052498a"
   },
   "outputs": [],
   "source": [
    "## the training data has 55M rows. In this kernel, we shall only read  1M rows\n",
    "## generation from full data via bash: shuf -n 1000000 original_train.csv > train_small.csv\n",
    "train=pd.read_csv(\"../../DATA/NY_taxi_train_small.csv\") #use only a small part of the full 55Mio data points"
   ]
  },
  {
   "cell_type": "markdown",
   "metadata": {},
   "source": [
    "### Data Science Workflow"
   ]
  },
  {
   "cell_type": "markdown",
   "metadata": {},
   "source": [
    "<img src='IMG/workflow.png'>"
   ]
  },
  {
   "cell_type": "code",
   "execution_count": 4,
   "metadata": {
    "_cell_guid": "79c7e3d0-c299-4dcb-8224-4455121ee9b0",
    "_uuid": "d629ff2d2480ee46fbb7e2d37f6b5fab8052498a"
   },
   "outputs": [
    {
     "data": {
      "text/html": [
       "<div>\n",
       "<style scoped>\n",
       "    .dataframe tbody tr th:only-of-type {\n",
       "        vertical-align: middle;\n",
       "    }\n",
       "\n",
       "    .dataframe tbody tr th {\n",
       "        vertical-align: top;\n",
       "    }\n",
       "\n",
       "    .dataframe thead th {\n",
       "        text-align: right;\n",
       "    }\n",
       "</style>\n",
       "<table border=\"1\" class=\"dataframe\">\n",
       "  <thead>\n",
       "    <tr style=\"text-align: right;\">\n",
       "      <th></th>\n",
       "      <th>key</th>\n",
       "      <th>fare_amount</th>\n",
       "      <th>pickup_datetime</th>\n",
       "      <th>pickup_longitude</th>\n",
       "      <th>pickup_latitude</th>\n",
       "      <th>dropoff_longitude</th>\n",
       "      <th>dropoff_latitude</th>\n",
       "      <th>passenger_count</th>\n",
       "    </tr>\n",
       "  </thead>\n",
       "  <tbody>\n",
       "    <tr>\n",
       "      <th>0</th>\n",
       "      <td>2014-03-12 17:04:30.0000001</td>\n",
       "      <td>11.0</td>\n",
       "      <td>2014-03-12 17:04:30 UTC</td>\n",
       "      <td>-73.956721</td>\n",
       "      <td>40.767081</td>\n",
       "      <td>-73.989080</td>\n",
       "      <td>40.772745</td>\n",
       "      <td>1</td>\n",
       "    </tr>\n",
       "    <tr>\n",
       "      <th>1</th>\n",
       "      <td>2009-04-17 21:59:00.00000044</td>\n",
       "      <td>23.7</td>\n",
       "      <td>2009-04-17 21:59:00 UTC</td>\n",
       "      <td>-73.870913</td>\n",
       "      <td>40.773722</td>\n",
       "      <td>-73.996285</td>\n",
       "      <td>40.716018</td>\n",
       "      <td>2</td>\n",
       "    </tr>\n",
       "    <tr>\n",
       "      <th>2</th>\n",
       "      <td>2009-10-06 13:42:00.00000015</td>\n",
       "      <td>5.7</td>\n",
       "      <td>2009-10-06 13:42:00 UTC</td>\n",
       "      <td>-73.976258</td>\n",
       "      <td>40.751410</td>\n",
       "      <td>-73.984795</td>\n",
       "      <td>40.751305</td>\n",
       "      <td>3</td>\n",
       "    </tr>\n",
       "    <tr>\n",
       "      <th>3</th>\n",
       "      <td>2012-05-02 21:38:39.0000004</td>\n",
       "      <td>28.1</td>\n",
       "      <td>2012-05-02 21:38:39 UTC</td>\n",
       "      <td>-73.977940</td>\n",
       "      <td>40.752586</td>\n",
       "      <td>-73.976525</td>\n",
       "      <td>40.667005</td>\n",
       "      <td>1</td>\n",
       "    </tr>\n",
       "    <tr>\n",
       "      <th>4</th>\n",
       "      <td>2011-04-21 18:11:13.0000001</td>\n",
       "      <td>5.7</td>\n",
       "      <td>2011-04-21 18:11:13 UTC</td>\n",
       "      <td>-73.988390</td>\n",
       "      <td>40.723152</td>\n",
       "      <td>-73.984367</td>\n",
       "      <td>40.736301</td>\n",
       "      <td>1</td>\n",
       "    </tr>\n",
       "  </tbody>\n",
       "</table>\n",
       "</div>"
      ],
      "text/plain": [
       "                            key  fare_amount          pickup_datetime  \\\n",
       "0  2014-03-12 17:04:30.0000001   11.0         2014-03-12 17:04:30 UTC   \n",
       "1  2009-04-17 21:59:00.00000044  23.7         2009-04-17 21:59:00 UTC   \n",
       "2  2009-10-06 13:42:00.00000015  5.7          2009-10-06 13:42:00 UTC   \n",
       "3  2012-05-02 21:38:39.0000004   28.1         2012-05-02 21:38:39 UTC   \n",
       "4  2011-04-21 18:11:13.0000001   5.7          2011-04-21 18:11:13 UTC   \n",
       "\n",
       "   pickup_longitude  pickup_latitude  dropoff_longitude  dropoff_latitude  \\\n",
       "0 -73.956721         40.767081       -73.989080          40.772745          \n",
       "1 -73.870913         40.773722       -73.996285          40.716018          \n",
       "2 -73.976258         40.751410       -73.984795          40.751305          \n",
       "3 -73.977940         40.752586       -73.976525          40.667005          \n",
       "4 -73.988390         40.723152       -73.984367          40.736301          \n",
       "\n",
       "   passenger_count  \n",
       "0  1                \n",
       "1  2                \n",
       "2  3                \n",
       "3  1                \n",
       "4  1                "
      ]
     },
     "execution_count": 4,
     "metadata": {},
     "output_type": "execute_result"
    }
   ],
   "source": [
    "#let's have a first look at the data\n",
    "train.head()"
   ]
  },
  {
   "cell_type": "code",
   "execution_count": 5,
   "metadata": {
    "_uuid": "65ac054af305df4e22a12d362044c8898987d469"
   },
   "outputs": [
    {
     "name": "stdout",
     "output_type": "stream",
     "text": [
      "<class 'pandas.core.frame.DataFrame'>\n",
      "RangeIndex: 1000000 entries, 0 to 999999\n",
      "Data columns (total 8 columns):\n",
      " #   Column             Non-Null Count    Dtype  \n",
      "---  ------             --------------    -----  \n",
      " 0   key                1000000 non-null  object \n",
      " 1   fare_amount        1000000 non-null  float64\n",
      " 2   pickup_datetime    1000000 non-null  object \n",
      " 3   pickup_longitude   1000000 non-null  float64\n",
      " 4   pickup_latitude    1000000 non-null  float64\n",
      " 5   dropoff_longitude  999989 non-null   float64\n",
      " 6   dropoff_latitude   999989 non-null   float64\n",
      " 7   passenger_count    1000000 non-null  int64  \n",
      "dtypes: float64(5), int64(1), object(2)\n",
      "memory usage: 61.0+ MB\n"
     ]
    }
   ],
   "source": [
    "# get row data types\n",
    "train.info()"
   ]
  },
  {
   "cell_type": "markdown",
   "metadata": {
    "_uuid": "e1e6f50660c97c20ad8f7db2891e4a5afcb96bb6"
   },
   "source": [
    "### Convert pickup_datetime from Object to Datetime object"
   ]
  },
  {
   "cell_type": "code",
   "execution_count": 6,
   "metadata": {
    "_uuid": "ed0fa345b88b75938c3dd45b13ae5d56f9197f7a"
   },
   "outputs": [
    {
     "data": {
      "text/html": [
       "<div>\n",
       "<style scoped>\n",
       "    .dataframe tbody tr th:only-of-type {\n",
       "        vertical-align: middle;\n",
       "    }\n",
       "\n",
       "    .dataframe tbody tr th {\n",
       "        vertical-align: top;\n",
       "    }\n",
       "\n",
       "    .dataframe thead th {\n",
       "        text-align: right;\n",
       "    }\n",
       "</style>\n",
       "<table border=\"1\" class=\"dataframe\">\n",
       "  <thead>\n",
       "    <tr style=\"text-align: right;\">\n",
       "      <th></th>\n",
       "      <th>key</th>\n",
       "      <th>fare_amount</th>\n",
       "      <th>pickup_datetime</th>\n",
       "      <th>pickup_longitude</th>\n",
       "      <th>pickup_latitude</th>\n",
       "      <th>dropoff_longitude</th>\n",
       "      <th>dropoff_latitude</th>\n",
       "      <th>passenger_count</th>\n",
       "    </tr>\n",
       "  </thead>\n",
       "  <tbody>\n",
       "    <tr>\n",
       "      <th>0</th>\n",
       "      <td>2014-03-12 17:04:30.0000001</td>\n",
       "      <td>11.0</td>\n",
       "      <td>2014-03-12 17:04:30</td>\n",
       "      <td>-73.956721</td>\n",
       "      <td>40.767081</td>\n",
       "      <td>-73.989080</td>\n",
       "      <td>40.772745</td>\n",
       "      <td>1</td>\n",
       "    </tr>\n",
       "    <tr>\n",
       "      <th>1</th>\n",
       "      <td>2009-04-17 21:59:00.00000044</td>\n",
       "      <td>23.7</td>\n",
       "      <td>2009-04-17 21:59:00</td>\n",
       "      <td>-73.870913</td>\n",
       "      <td>40.773722</td>\n",
       "      <td>-73.996285</td>\n",
       "      <td>40.716018</td>\n",
       "      <td>2</td>\n",
       "    </tr>\n",
       "    <tr>\n",
       "      <th>2</th>\n",
       "      <td>2009-10-06 13:42:00.00000015</td>\n",
       "      <td>5.7</td>\n",
       "      <td>2009-10-06 13:42:00</td>\n",
       "      <td>-73.976258</td>\n",
       "      <td>40.751410</td>\n",
       "      <td>-73.984795</td>\n",
       "      <td>40.751305</td>\n",
       "      <td>3</td>\n",
       "    </tr>\n",
       "    <tr>\n",
       "      <th>3</th>\n",
       "      <td>2012-05-02 21:38:39.0000004</td>\n",
       "      <td>28.1</td>\n",
       "      <td>2012-05-02 21:38:39</td>\n",
       "      <td>-73.977940</td>\n",
       "      <td>40.752586</td>\n",
       "      <td>-73.976525</td>\n",
       "      <td>40.667005</td>\n",
       "      <td>1</td>\n",
       "    </tr>\n",
       "    <tr>\n",
       "      <th>4</th>\n",
       "      <td>2011-04-21 18:11:13.0000001</td>\n",
       "      <td>5.7</td>\n",
       "      <td>2011-04-21 18:11:13</td>\n",
       "      <td>-73.988390</td>\n",
       "      <td>40.723152</td>\n",
       "      <td>-73.984367</td>\n",
       "      <td>40.736301</td>\n",
       "      <td>1</td>\n",
       "    </tr>\n",
       "  </tbody>\n",
       "</table>\n",
       "</div>"
      ],
      "text/plain": [
       "                            key  fare_amount     pickup_datetime  \\\n",
       "0  2014-03-12 17:04:30.0000001   11.0        2014-03-12 17:04:30   \n",
       "1  2009-04-17 21:59:00.00000044  23.7        2009-04-17 21:59:00   \n",
       "2  2009-10-06 13:42:00.00000015  5.7         2009-10-06 13:42:00   \n",
       "3  2012-05-02 21:38:39.0000004   28.1        2012-05-02 21:38:39   \n",
       "4  2011-04-21 18:11:13.0000001   5.7         2011-04-21 18:11:13   \n",
       "\n",
       "   pickup_longitude  pickup_latitude  dropoff_longitude  dropoff_latitude  \\\n",
       "0 -73.956721         40.767081       -73.989080          40.772745          \n",
       "1 -73.870913         40.773722       -73.996285          40.716018          \n",
       "2 -73.976258         40.751410       -73.984795          40.751305          \n",
       "3 -73.977940         40.752586       -73.976525          40.667005          \n",
       "4 -73.988390         40.723152       -73.984367          40.736301          \n",
       "\n",
       "   passenger_count  \n",
       "0  1                \n",
       "1  2                \n",
       "2  3                \n",
       "3  1                \n",
       "4  1                "
      ]
     },
     "execution_count": 6,
     "metadata": {},
     "output_type": "execute_result"
    }
   ],
   "source": [
    "train['pickup_datetime']=pd.to_datetime(train['pickup_datetime'],format='%Y-%m-%d %H:%M:%S UTC')\n",
    "train.head()"
   ]
  },
  {
   "cell_type": "markdown",
   "metadata": {
    "_uuid": "02b9a3b16cb49c2b4ae2ea6b404239e4df768bef"
   },
   "source": [
    "### Create datetime features based on pickup_datetime"
   ]
  },
  {
   "cell_type": "code",
   "execution_count": 7,
   "metadata": {
    "_uuid": "ba414bb4f2cc2c5fecf78ccce527c241ba2bbe82"
   },
   "outputs": [],
   "source": [
    "train['pickup_date']= train['pickup_datetime'].dt.date\n",
    "train['pickup_day']=train['pickup_datetime'].apply(lambda x:x.day)\n",
    "train['pickup_hour']=train['pickup_datetime'].apply(lambda x:x.hour)\n",
    "train['pickup_day_of_week']=train['pickup_datetime'].apply(lambda x:calendar.day_name[x.weekday()])\n",
    "train['pickup_month']=train['pickup_datetime'].apply(lambda x:x.month)\n",
    "train['pickup_year']=train['pickup_datetime'].apply(lambda x:x.year)"
   ]
  },
  {
   "cell_type": "code",
   "execution_count": 8,
   "metadata": {},
   "outputs": [
    {
     "data": {
      "text/html": [
       "<div>\n",
       "<style scoped>\n",
       "    .dataframe tbody tr th:only-of-type {\n",
       "        vertical-align: middle;\n",
       "    }\n",
       "\n",
       "    .dataframe tbody tr th {\n",
       "        vertical-align: top;\n",
       "    }\n",
       "\n",
       "    .dataframe thead th {\n",
       "        text-align: right;\n",
       "    }\n",
       "</style>\n",
       "<table border=\"1\" class=\"dataframe\">\n",
       "  <thead>\n",
       "    <tr style=\"text-align: right;\">\n",
       "      <th></th>\n",
       "      <th>key</th>\n",
       "      <th>fare_amount</th>\n",
       "      <th>pickup_datetime</th>\n",
       "      <th>pickup_longitude</th>\n",
       "      <th>pickup_latitude</th>\n",
       "      <th>dropoff_longitude</th>\n",
       "      <th>dropoff_latitude</th>\n",
       "      <th>passenger_count</th>\n",
       "      <th>pickup_date</th>\n",
       "      <th>pickup_day</th>\n",
       "      <th>pickup_hour</th>\n",
       "      <th>pickup_day_of_week</th>\n",
       "      <th>pickup_month</th>\n",
       "      <th>pickup_year</th>\n",
       "    </tr>\n",
       "  </thead>\n",
       "  <tbody>\n",
       "    <tr>\n",
       "      <th>0</th>\n",
       "      <td>2014-03-12 17:04:30.0000001</td>\n",
       "      <td>11.0</td>\n",
       "      <td>2014-03-12 17:04:30</td>\n",
       "      <td>-73.956721</td>\n",
       "      <td>40.767081</td>\n",
       "      <td>-73.989080</td>\n",
       "      <td>40.772745</td>\n",
       "      <td>1</td>\n",
       "      <td>2014-03-12</td>\n",
       "      <td>12</td>\n",
       "      <td>17</td>\n",
       "      <td>Wednesday</td>\n",
       "      <td>3</td>\n",
       "      <td>2014</td>\n",
       "    </tr>\n",
       "    <tr>\n",
       "      <th>1</th>\n",
       "      <td>2009-04-17 21:59:00.00000044</td>\n",
       "      <td>23.7</td>\n",
       "      <td>2009-04-17 21:59:00</td>\n",
       "      <td>-73.870913</td>\n",
       "      <td>40.773722</td>\n",
       "      <td>-73.996285</td>\n",
       "      <td>40.716018</td>\n",
       "      <td>2</td>\n",
       "      <td>2009-04-17</td>\n",
       "      <td>17</td>\n",
       "      <td>21</td>\n",
       "      <td>Friday</td>\n",
       "      <td>4</td>\n",
       "      <td>2009</td>\n",
       "    </tr>\n",
       "    <tr>\n",
       "      <th>2</th>\n",
       "      <td>2009-10-06 13:42:00.00000015</td>\n",
       "      <td>5.7</td>\n",
       "      <td>2009-10-06 13:42:00</td>\n",
       "      <td>-73.976258</td>\n",
       "      <td>40.751410</td>\n",
       "      <td>-73.984795</td>\n",
       "      <td>40.751305</td>\n",
       "      <td>3</td>\n",
       "      <td>2009-10-06</td>\n",
       "      <td>6</td>\n",
       "      <td>13</td>\n",
       "      <td>Tuesday</td>\n",
       "      <td>10</td>\n",
       "      <td>2009</td>\n",
       "    </tr>\n",
       "    <tr>\n",
       "      <th>3</th>\n",
       "      <td>2012-05-02 21:38:39.0000004</td>\n",
       "      <td>28.1</td>\n",
       "      <td>2012-05-02 21:38:39</td>\n",
       "      <td>-73.977940</td>\n",
       "      <td>40.752586</td>\n",
       "      <td>-73.976525</td>\n",
       "      <td>40.667005</td>\n",
       "      <td>1</td>\n",
       "      <td>2012-05-02</td>\n",
       "      <td>2</td>\n",
       "      <td>21</td>\n",
       "      <td>Wednesday</td>\n",
       "      <td>5</td>\n",
       "      <td>2012</td>\n",
       "    </tr>\n",
       "    <tr>\n",
       "      <th>4</th>\n",
       "      <td>2011-04-21 18:11:13.0000001</td>\n",
       "      <td>5.7</td>\n",
       "      <td>2011-04-21 18:11:13</td>\n",
       "      <td>-73.988390</td>\n",
       "      <td>40.723152</td>\n",
       "      <td>-73.984367</td>\n",
       "      <td>40.736301</td>\n",
       "      <td>1</td>\n",
       "      <td>2011-04-21</td>\n",
       "      <td>21</td>\n",
       "      <td>18</td>\n",
       "      <td>Thursday</td>\n",
       "      <td>4</td>\n",
       "      <td>2011</td>\n",
       "    </tr>\n",
       "  </tbody>\n",
       "</table>\n",
       "</div>"
      ],
      "text/plain": [
       "                            key  fare_amount     pickup_datetime  \\\n",
       "0  2014-03-12 17:04:30.0000001   11.0        2014-03-12 17:04:30   \n",
       "1  2009-04-17 21:59:00.00000044  23.7        2009-04-17 21:59:00   \n",
       "2  2009-10-06 13:42:00.00000015  5.7         2009-10-06 13:42:00   \n",
       "3  2012-05-02 21:38:39.0000004   28.1        2012-05-02 21:38:39   \n",
       "4  2011-04-21 18:11:13.0000001   5.7         2011-04-21 18:11:13   \n",
       "\n",
       "   pickup_longitude  pickup_latitude  dropoff_longitude  dropoff_latitude  \\\n",
       "0 -73.956721         40.767081       -73.989080          40.772745          \n",
       "1 -73.870913         40.773722       -73.996285          40.716018          \n",
       "2 -73.976258         40.751410       -73.984795          40.751305          \n",
       "3 -73.977940         40.752586       -73.976525          40.667005          \n",
       "4 -73.988390         40.723152       -73.984367          40.736301          \n",
       "\n",
       "   passenger_count pickup_date  pickup_day  pickup_hour pickup_day_of_week  \\\n",
       "0  1                2014-03-12  12          17           Wednesday           \n",
       "1  2                2009-04-17  17          21           Friday              \n",
       "2  3                2009-10-06  6           13           Tuesday             \n",
       "3  1                2012-05-02  2           21           Wednesday           \n",
       "4  1                2011-04-21  21          18           Thursday            \n",
       "\n",
       "   pickup_month  pickup_year  \n",
       "0  3             2014         \n",
       "1  4             2009         \n",
       "2  10            2009         \n",
       "3  5             2012         \n",
       "4  4             2011         "
      ]
     },
     "execution_count": 8,
     "metadata": {},
     "output_type": "execute_result"
    }
   ],
   "source": [
    "train.head()"
   ]
  },
  {
   "cell_type": "markdown",
   "metadata": {
    "_uuid": "6b43e3d03a48da1af164ece6845f296af82c62a6"
   },
   "source": [
    "### Check for Missing Values "
   ]
  },
  {
   "cell_type": "code",
   "execution_count": 9,
   "metadata": {
    "_uuid": "8c934516e5f39f409313b73e1173487214e541e6"
   },
   "outputs": [
    {
     "data": {
      "text/plain": [
       "key                   0.0\n",
       "fare_amount           0.0\n",
       "pickup_longitude      0.0\n",
       "pickup_latitude       0.0\n",
       "dropoff_longitude     0.0\n",
       "dropoff_latitude      0.0\n",
       "passenger_count       0.0\n",
       "pickup_date           0.0\n",
       "pickup_day            0.0\n",
       "pickup_hour           0.0\n",
       "pickup_day_of_week    0.0\n",
       "pickup_month          0.0\n",
       "pickup_year           0.0\n",
       "dtype: float64"
      ]
     },
     "execution_count": 9,
     "metadata": {},
     "output_type": "execute_result"
    }
   ],
   "source": [
    "train[pd.isnull(train)].sum()"
   ]
  },
  {
   "cell_type": "markdown",
   "metadata": {
    "_uuid": "6f4e6a5f8b64737112760d88c458073c24f42363"
   },
   "source": [
    "There are no missing values in the data."
   ]
  },
  {
   "cell_type": "markdown",
   "metadata": {
    "_uuid": "e2d12d2f34d57f2124229af24bc280df4248debb"
   },
   "source": [
    "### Exploratory Data Analysis"
   ]
  },
  {
   "cell_type": "markdown",
   "metadata": {
    "_uuid": "3cd3158d1d3c9fd068df2d7fa5059f9cd1b921c7"
   },
   "source": [
    "** Distribution of Trip Fare**"
   ]
  },
  {
   "cell_type": "code",
   "execution_count": 10,
   "metadata": {
    "_uuid": "487d8454ed8ced36220e5e1731139c94b9c40eda"
   },
   "outputs": [
    {
     "data": {
      "text/plain": [
       "Text(0.5, 1.0, 'Distribution of Trip Fare')"
      ]
     },
     "execution_count": 10,
     "metadata": {},
     "output_type": "execute_result"
    },
    {
     "data": {
      "image/png": "[encoded data removed]",
      "text/plain": [
       "<Figure size 576x360 with 1 Axes>"
      ]
     },
     "metadata": {},
     "output_type": "display_data"
    }
   ],
   "source": [
    "plt.figure(figsize=(8,5))\n",
    "sns.kdeplot(train['fare_amount']).set_title(\"Distribution of Trip Fare\")"
   ]
  },
  {
   "cell_type": "markdown",
   "metadata": {
    "_uuid": "fac3f9e1e66fb110fafb6e774c488c405a6a5797"
   },
   "source": [
    "There are some negative fare amount in the data and also it is skewed. Let us have a look at these data points"
   ]
  },
  {
   "cell_type": "code",
   "execution_count": 11,
   "metadata": {
    "_uuid": "2af2e8b8bb07ab05127574ef6d702bfae360aca4"
   },
   "outputs": [
    {
     "data": {
      "text/plain": [
       "(54, 14)"
      ]
     },
     "execution_count": 11,
     "metadata": {},
     "output_type": "execute_result"
    }
   ],
   "source": [
    "train.loc[train['fare_amount']<0].shape"
   ]
  },
  {
   "cell_type": "markdown",
   "metadata": {
    "_uuid": "7530664a9fc03fd8fa60d4ce6e37d0229b758dcd"
   },
   "source": [
    "There are 54 records with negative fare. We will remove these records from the data"
   ]
  },
  {
   "cell_type": "code",
   "execution_count": 12,
   "metadata": {
    "_uuid": "0a110345fe881a57e7751d6b8ec4424a57458df5"
   },
   "outputs": [
    {
     "data": {
      "text/plain": [
       "(999922, 14)"
      ]
     },
     "execution_count": 12,
     "metadata": {},
     "output_type": "execute_result"
    }
   ],
   "source": [
    "train=train.loc[train['fare_amount']>0]\n",
    "train.shape"
   ]
  },
  {
   "cell_type": "code",
   "execution_count": 13,
   "metadata": {},
   "outputs": [
    {
     "data": {
      "text/plain": [
       "Text(0.5, 1.0, 'Distribution of Trip Fare')"
      ]
     },
     "execution_count": 13,
     "metadata": {},
     "output_type": "execute_result"
    },
    {
     "data": {
      "image/png": "[encoded data removed]",
      "text/plain": [
       "<Figure size 576x360 with 1 Axes>"
      ]
     },
     "metadata": {},
     "output_type": "display_data"
    }
   ],
   "source": [
    "plt.figure(figsize=(8,5))\n",
    "sns.boxplot(train['fare_amount']).set_title(\"Distribution of Trip Fare\")"
   ]
  },
  {
   "cell_type": "markdown",
   "metadata": {
    "_uuid": "056325f408635a09bd0b30a3b25bdb5fe3bf1177"
   },
   "source": [
    "Since we saw above that fare amount is highly skewed,let us take log transformation of the fare amount and plot the distribution"
   ]
  },
  {
   "cell_type": "code",
   "execution_count": 14,
   "metadata": {},
   "outputs": [
    {
     "data": {
      "text/plain": [
       "Text(0.5, 1.0, 'Distribution of Trip Fare')"
      ]
     },
     "execution_count": 14,
     "metadata": {},
     "output_type": "execute_result"
    },
    {
     "data": {
      "image/png": "[encoded data removed]",
      "text/plain": [
       "<Figure size 576x360 with 1 Axes>"
      ]
     },
     "metadata": {},
     "output_type": "display_data"
    }
   ],
   "source": [
    "plt.figure(figsize=(8,5))\n",
    "sns.boxplot(np.log(train['fare_amount'])).set_title(\"Distribution of Trip Fare\")"
   ]
  },
  {
   "cell_type": "markdown",
   "metadata": {
    "_uuid": "565e713132fb7691cba556d73aa438a72c77ead1"
   },
   "source": [
    "### Let us look at Geographical Features and their relationship with Fare Amount\n",
    "\n",
    "**Distribution of Pickup and Dropoff Lat Lng**"
   ]
  },
  {
   "cell_type": "code",
   "execution_count": 15,
   "metadata": {
    "_uuid": "a740507c61a9ab3660b10e786fb82b49034501dc"
   },
   "outputs": [
    {
     "name": "stdout",
     "output_type": "stream",
     "text": [
      "Range of Pickup Latitude is  (-3488.0311799999995, 3285.7479780000003)\n"
     ]
    }
   ],
   "source": [
    "print(\"Range of Pickup Latitude is \", (min(train['pickup_latitude']),max(train['pickup_latitude'])))"
   ]
  },
  {
   "cell_type": "code",
   "execution_count": 16,
   "metadata": {
    "_uuid": "18e7b4adf11b10af1db04ecb129aa2df983a4bb8"
   },
   "outputs": [
    {
     "name": "stdout",
     "output_type": "stream",
     "text": [
      "Range of Dropoff Latitude is  (-3257.337528, 1198.304697)\n"
     ]
    }
   ],
   "source": [
    "print(\"Range of Dropoff Latitude is \", (min(train['dropoff_latitude']),max(train['dropoff_longitude'])))"
   ]
  },
  {
   "cell_type": "markdown",
   "metadata": {
    "_uuid": "49bf4ecbbf9ded9a6012cdee23aabbcaaa81ccb5"
   },
   "source": [
    "The data is for Taxi Rides in Newyork, whose center lat, lng is at ((40,-74).The range of dropoff and pickup latitudes indicates lot of outlier locations in the train data. "
   ]
  },
  {
   "cell_type": "code",
   "execution_count": 17,
   "metadata": {
    "_uuid": "25520beca9d5a7309b0d67b90438a26bdf0b45c2"
   },
   "outputs": [
    {
     "name": "stdout",
     "output_type": "stream",
     "text": [
      "Longitude Boundary in test data\n"
     ]
    },
    {
     "data": {
      "text/plain": [
       "(-74.263242, -72.986532)"
      ]
     },
     "execution_count": 17,
     "metadata": {},
     "output_type": "execute_result"
    }
   ],
   "source": [
    "#Before we  ahead and identify outlier location, let us read the test data and see what the boundaries are.\n",
    "test =  pd.read_csv('../../DATA/NY_taxi_test.csv')\n",
    "print(\"Longitude Boundary in test data\")\n",
    "min(test.pickup_longitude.min(), test.dropoff_longitude.min()),max(test.pickup_longitude.max(), test.dropoff_longitude.max())"
   ]
  },
  {
   "cell_type": "code",
   "execution_count": 18,
   "metadata": {
    "_uuid": "3bd5be498a5a2bcabc56873606157940f2c2f82e"
   },
   "outputs": [
    {
     "name": "stdout",
     "output_type": "stream",
     "text": [
      "Latitude Boundary in test data\n"
     ]
    },
    {
     "data": {
      "text/plain": [
       "(40.573143, 41.709555)"
      ]
     },
     "execution_count": 18,
     "metadata": {},
     "output_type": "execute_result"
    }
   ],
   "source": [
    "print(\"Latitude Boundary in test data\")\n",
    "min(test.pickup_latitude.min(), test.pickup_latitude.min()),max(test.pickup_latitude.max(), test.pickup_latitude.max())"
   ]
  },
  {
   "cell_type": "markdown",
   "metadata": {
    "_uuid": "27633a990438f6f867fb86b253ac5f09931cb34c"
   },
   "source": [
    " Let us set the boundary for the train data also based on test data lat lng boundaries.We will mark the outlier locations as 1 and remove them for further analysi"
   ]
  },
  {
   "cell_type": "code",
   "execution_count": 19,
   "metadata": {
    "_uuid": "c8e972294d153c1c73c09a773af13f914b999081"
   },
   "outputs": [],
   "source": [
    "boundary={'min_lng':-74.263242,\n",
    "              'min_lat':40.573143,\n",
    "              'max_lng':-72.986532, \n",
    "              'max_lat':41.709555}\n",
    "\n",
    "\n"
   ]
  },
  {
   "cell_type": "markdown",
   "metadata": {
    "_uuid": "e22fc3223fb0b0741f7894044fbf1b820ecc40f1"
   },
   "source": [
    "There are a lot of cases where lat lng is zero. How many such cases are there in the data?"
   ]
  },
  {
   "cell_type": "code",
   "execution_count": 20,
   "metadata": {
    "_uuid": "68204391bbfea2b2ff6b969c14ab2836db760519"
   },
   "outputs": [
    {
     "data": {
      "text/plain": [
       "(19062, 14)"
      ]
     },
     "execution_count": 20,
     "metadata": {},
     "output_type": "execute_result"
    }
   ],
   "source": [
    "train[(train.pickup_latitude==0) | (train.pickup_longitude)==0 | (train.dropoff_latitude==0)|(train.dropoff_longitude==0)].shape"
   ]
  },
  {
   "cell_type": "markdown",
   "metadata": {
    "_uuid": "886436156b25d86e724ed0f34d960edee7357c28"
   },
   "source": [
    " 19K records  have either pickup/dropoff lat/lng as 0.0 . There is a high chance this is present in test data as well. So, let us create a field called is_outlier_loc and mark as 1 in case it is an outlier. Any point beyond NYC border is an outlier.  We will also drop all rows where the pickup or dropoff location is an outlier\n"
   ]
  },
  {
   "cell_type": "code",
   "execution_count": 21,
   "metadata": {
    "_uuid": "f6b1ebbbf5c4dfea5489c785c824ec101f2f641e"
   },
   "outputs": [
    {
     "name": "stdout",
     "output_type": "stream",
     "text": [
      "Outlier vs Non Outlier Counts\n",
      "0.0    978463\n",
      "1.0    21459 \n",
      "Name: is_outlier_loc, dtype: int64\n"
     ]
    }
   ],
   "source": [
    "train.loc[~((train.pickup_longitude >= boundary['min_lng'] ) & (train.pickup_longitude <= boundary['max_lng']) &\n",
    "            (train.pickup_latitude >= boundary['min_lat']) & (train.pickup_latitude <= boundary['max_lat']) &\n",
    "            (train.dropoff_longitude >= boundary['min_lng']) & (train.dropoff_longitude <= boundary['max_lng']) &\n",
    "            (train.dropoff_latitude >=boundary['min_lat']) & (train.dropoff_latitude <= boundary['max_lat'])),'is_outlier_loc']=1\n",
    "train.loc[((train.pickup_longitude >= boundary['min_lng'] ) & (train.pickup_longitude <= boundary['max_lng']) &\n",
    "            (train.pickup_latitude >= boundary['min_lat']) & (train.pickup_latitude <= boundary['max_lat']) &\n",
    "            (train.dropoff_longitude >= boundary['min_lng']) & (train.dropoff_longitude <= boundary['max_lng']) &\n",
    "            (train.dropoff_latitude >=boundary['min_lat']) & (train.dropoff_latitude <= boundary['max_lat'])),'is_outlier_loc']=0\n",
    "\n",
    "print(\"Outlier vs Non Outlier Counts\")\n",
    "print(train['is_outlier_loc'].value_counts())\n",
    "\n",
    "# Let us drop rows, where location is outlier\n",
    "train=train.loc[train['is_outlier_loc']==0]\n",
    "train.drop(['is_outlier_loc'],axis=1,inplace=True)"
   ]
  },
  {
   "cell_type": "markdown",
   "metadata": {
    "_uuid": "af7c736d06d56692b1a14279d973bc4ff5cb1163"
   },
   "source": [
    "21K records are outliers"
   ]
  },
  {
   "cell_type": "markdown",
   "metadata": {
    "_uuid": "733c13875ad04c65662e3387e0c6f21416db5914"
   },
   "source": [
    "### Plot Heatmap of Pickups and Dropoffs within NYC"
   ]
  },
  {
   "cell_type": "code",
   "execution_count": 22,
   "metadata": {
    "_uuid": "ae6307a275483a67b59a589108716eeeac9caf49"
   },
   "outputs": [
    {
     "data": {
      "text/plain": [
       "(-74.03, -73.75)"
      ]
     },
     "execution_count": 22,
     "metadata": {},
     "output_type": "execute_result"
    },
    {
     "data": {
      "image/png": "[encoded data removed]",
      "text/plain": [
       "<Figure size 432x288 with 1 Axes>"
      ]
     },
     "metadata": {},
     "output_type": "display_data"
    }
   ],
   "source": [
    "city_long_border = (-74.03, -73.75)\n",
    "city_lat_border = (40.63, 40.85)\n",
    "\n",
    "train.plot(kind='scatter', x='dropoff_longitude', y='dropoff_latitude',\n",
    "                color='green', \n",
    "                s=.02, alpha=.6)\n",
    "\n",
    "plt.title(\"Dropoffs\")\n",
    "\n",
    "plt.ylim(city_lat_border)\n",
    "plt.xlim(city_long_border)"
   ]
  },
  {
   "cell_type": "code",
   "execution_count": 23,
   "metadata": {
    "_uuid": "c7989eb34515882cc59692cddeb235da5b4df0ac"
   },
   "outputs": [
    {
     "data": {
      "text/plain": [
       "(-74.03, -73.75)"
      ]
     },
     "execution_count": 23,
     "metadata": {},
     "output_type": "execute_result"
    },
    {
     "data": {
      "image/png": "[encoded data removed]",
      "text/plain": [
       "<Figure size 432x288 with 1 Axes>"
      ]
     },
     "metadata": {},
     "output_type": "display_data"
    }
   ],
   "source": [
    "\n",
    "train.plot(kind='scatter', x='pickup_longitude', y='pickup_latitude',\n",
    "                color='blue', \n",
    "                s=.02, alpha=.6)\n",
    "plt.title(\"Pickups\")\n",
    "\n",
    "plt.ylim(city_lat_border)\n",
    "plt.xlim(city_long_border)"
   ]
  },
  {
   "cell_type": "markdown",
   "metadata": {
    "_uuid": "a091539d9f4a66ec6e3105b723d4e72dbe13cd50"
   },
   "source": [
    "Apart from Manhattan, we can see heavy pickups and dropoffs near JFK and La Guardia Airport. "
   ]
  },
  {
   "cell_type": "code",
   "execution_count": 24,
   "metadata": {},
   "outputs": [
    {
     "ename": "KeyError",
     "evalue": "'dropoff_latitude_round3'",
     "output_type": "error",
     "traceback": [
      "\u001b[1;31m---------------------------------------------------------------------------\u001b[0m",
      "\u001b[1;31mKeyError\u001b[0m                                  Traceback (most recent call last)",
      "\u001b[1;32m~\\anaconda3\\lib\\site-packages\\pandas\\core\\indexes\\base.py\u001b[0m in \u001b[0;36mget_loc\u001b[1;34m(self, key, method, tolerance)\u001b[0m\n\u001b[0;32m   2894\u001b[0m             \u001b[1;32mtry\u001b[0m\u001b[1;33m:\u001b[0m\u001b[1;33m\u001b[0m\u001b[1;33m\u001b[0m\u001b[0m\n\u001b[1;32m-> 2895\u001b[1;33m                 \u001b[1;32mreturn\u001b[0m \u001b[0mself\u001b[0m\u001b[1;33m.\u001b[0m\u001b[0m_engine\u001b[0m\u001b[1;33m.\u001b[0m\u001b[0mget_loc\u001b[0m\u001b[1;33m(\u001b[0m\u001b[0mcasted_key\u001b[0m\u001b[1;33m)\u001b[0m\u001b[1;33m\u001b[0m\u001b[1;33m\u001b[0m\u001b[0m\n\u001b[0m\u001b[0;32m   2896\u001b[0m             \u001b[1;32mexcept\u001b[0m \u001b[0mKeyError\u001b[0m \u001b[1;32mas\u001b[0m \u001b[0merr\u001b[0m\u001b[1;33m:\u001b[0m\u001b[1;33m\u001b[0m\u001b[1;33m\u001b[0m\u001b[0m\n",
      "\u001b[1;32mpandas\\_libs\\index.pyx\u001b[0m in \u001b[0;36mpandas._libs.index.IndexEngine.get_loc\u001b[1;34m()\u001b[0m\n",
      "\u001b[1;32mpandas\\_libs\\index.pyx\u001b[0m in \u001b[0;36mpandas._libs.index.IndexEngine.get_loc\u001b[1;34m()\u001b[0m\n",
      "\u001b[1;32mpandas\\_libs\\hashtable_class_helper.pxi\u001b[0m in \u001b[0;36mpandas._libs.hashtable.PyObjectHashTable.get_item\u001b[1;34m()\u001b[0m\n",
      "\u001b[1;32mpandas\\_libs\\hashtable_class_helper.pxi\u001b[0m in \u001b[0;36mpandas._libs.hashtable.PyObjectHashTable.get_item\u001b[1;34m()\u001b[0m\n",
      "\u001b[1;31mKeyError\u001b[0m: 'dropoff_latitude_round3'",
      "\nThe above exception was the direct cause of the following exception:\n",
      "\u001b[1;31mKeyError\u001b[0m                                  Traceback (most recent call last)",
      "\u001b[1;32m<ipython-input-24-32b0c768b091>\u001b[0m in \u001b[0;36m<module>\u001b[1;34m\u001b[0m\n\u001b[0;32m      7\u001b[0m \u001b[1;32mfor\u001b[0m \u001b[0mindex\u001b[0m\u001b[1;33m,\u001b[0m \u001b[0mrow\u001b[0m \u001b[1;32min\u001b[0m \u001b[0mtrain\u001b[0m\u001b[1;33m[\u001b[0m\u001b[1;36m0\u001b[0m\u001b[1;33m:\u001b[0m\u001b[1;36m1000\u001b[0m\u001b[1;33m]\u001b[0m\u001b[1;33m.\u001b[0m\u001b[0miterrows\u001b[0m\u001b[1;33m(\u001b[0m\u001b[1;33m)\u001b[0m\u001b[1;33m:\u001b[0m\u001b[1;33m\u001b[0m\u001b[1;33m\u001b[0m\u001b[0m\n\u001b[0;32m      8\u001b[0m \u001b[1;33m\u001b[0m\u001b[0m\n\u001b[1;32m----> 9\u001b[1;33m     folium.CircleMarker([row['dropoff_latitude_round3'], row['dropoff_longitude_round3']],\n\u001b[0m\u001b[0;32m     10\u001b[0m                         \u001b[0mradius\u001b[0m\u001b[1;33m=\u001b[0m\u001b[1;36m3\u001b[0m\u001b[1;33m,\u001b[0m\u001b[1;33m\u001b[0m\u001b[1;33m\u001b[0m\u001b[0m\n\u001b[0;32m     11\u001b[0m \u001b[1;33m\u001b[0m\u001b[0m\n",
      "\u001b[1;32m~\\anaconda3\\lib\\site-packages\\pandas\\core\\series.py\u001b[0m in \u001b[0;36m__getitem__\u001b[1;34m(self, key)\u001b[0m\n\u001b[0;32m    880\u001b[0m \u001b[1;33m\u001b[0m\u001b[0m\n\u001b[0;32m    881\u001b[0m         \u001b[1;32melif\u001b[0m \u001b[0mkey_is_scalar\u001b[0m\u001b[1;33m:\u001b[0m\u001b[1;33m\u001b[0m\u001b[1;33m\u001b[0m\u001b[0m\n\u001b[1;32m--> 882\u001b[1;33m             \u001b[1;32mreturn\u001b[0m \u001b[0mself\u001b[0m\u001b[1;33m.\u001b[0m\u001b[0m_get_value\u001b[0m\u001b[1;33m(\u001b[0m\u001b[0mkey\u001b[0m\u001b[1;33m)\u001b[0m\u001b[1;33m\u001b[0m\u001b[1;33m\u001b[0m\u001b[0m\n\u001b[0m\u001b[0;32m    883\u001b[0m \u001b[1;33m\u001b[0m\u001b[0m\n\u001b[0;32m    884\u001b[0m         \u001b[1;32mif\u001b[0m \u001b[0mis_hashable\u001b[0m\u001b[1;33m(\u001b[0m\u001b[0mkey\u001b[0m\u001b[1;33m)\u001b[0m\u001b[1;33m:\u001b[0m\u001b[1;33m\u001b[0m\u001b[1;33m\u001b[0m\u001b[0m\n",
      "\u001b[1;32m~\\anaconda3\\lib\\site-packages\\pandas\\core\\series.py\u001b[0m in \u001b[0;36m_get_value\u001b[1;34m(self, label, takeable)\u001b[0m\n\u001b[0;32m    987\u001b[0m \u001b[1;33m\u001b[0m\u001b[0m\n\u001b[0;32m    988\u001b[0m         \u001b[1;31m# Similar to Index.get_value, but we do not fall back to positional\u001b[0m\u001b[1;33m\u001b[0m\u001b[1;33m\u001b[0m\u001b[1;33m\u001b[0m\u001b[0m\n\u001b[1;32m--> 989\u001b[1;33m         \u001b[0mloc\u001b[0m \u001b[1;33m=\u001b[0m \u001b[0mself\u001b[0m\u001b[1;33m.\u001b[0m\u001b[0mindex\u001b[0m\u001b[1;33m.\u001b[0m\u001b[0mget_loc\u001b[0m\u001b[1;33m(\u001b[0m\u001b[0mlabel\u001b[0m\u001b[1;33m)\u001b[0m\u001b[1;33m\u001b[0m\u001b[1;33m\u001b[0m\u001b[0m\n\u001b[0m\u001b[0;32m    990\u001b[0m         \u001b[1;32mreturn\u001b[0m \u001b[0mself\u001b[0m\u001b[1;33m.\u001b[0m\u001b[0mindex\u001b[0m\u001b[1;33m.\u001b[0m\u001b[0m_get_values_for_loc\u001b[0m\u001b[1;33m(\u001b[0m\u001b[0mself\u001b[0m\u001b[1;33m,\u001b[0m \u001b[0mloc\u001b[0m\u001b[1;33m,\u001b[0m \u001b[0mlabel\u001b[0m\u001b[1;33m)\u001b[0m\u001b[1;33m\u001b[0m\u001b[1;33m\u001b[0m\u001b[0m\n\u001b[0;32m    991\u001b[0m \u001b[1;33m\u001b[0m\u001b[0m\n",
      "\u001b[1;32m~\\anaconda3\\lib\\site-packages\\pandas\\core\\indexes\\base.py\u001b[0m in \u001b[0;36mget_loc\u001b[1;34m(self, key, method, tolerance)\u001b[0m\n\u001b[0;32m   2895\u001b[0m                 \u001b[1;32mreturn\u001b[0m \u001b[0mself\u001b[0m\u001b[1;33m.\u001b[0m\u001b[0m_engine\u001b[0m\u001b[1;33m.\u001b[0m\u001b[0mget_loc\u001b[0m\u001b[1;33m(\u001b[0m\u001b[0mcasted_key\u001b[0m\u001b[1;33m)\u001b[0m\u001b[1;33m\u001b[0m\u001b[1;33m\u001b[0m\u001b[0m\n\u001b[0;32m   2896\u001b[0m             \u001b[1;32mexcept\u001b[0m \u001b[0mKeyError\u001b[0m \u001b[1;32mas\u001b[0m \u001b[0merr\u001b[0m\u001b[1;33m:\u001b[0m\u001b[1;33m\u001b[0m\u001b[1;33m\u001b[0m\u001b[0m\n\u001b[1;32m-> 2897\u001b[1;33m                 \u001b[1;32mraise\u001b[0m \u001b[0mKeyError\u001b[0m\u001b[1;33m(\u001b[0m\u001b[0mkey\u001b[0m\u001b[1;33m)\u001b[0m \u001b[1;32mfrom\u001b[0m \u001b[0merr\u001b[0m\u001b[1;33m\u001b[0m\u001b[1;33m\u001b[0m\u001b[0m\n\u001b[0m\u001b[0;32m   2898\u001b[0m \u001b[1;33m\u001b[0m\u001b[0m\n\u001b[0;32m   2899\u001b[0m         \u001b[1;32mif\u001b[0m \u001b[0mtolerance\u001b[0m \u001b[1;32mis\u001b[0m \u001b[1;32mnot\u001b[0m \u001b[1;32mNone\u001b[0m\u001b[1;33m:\u001b[0m\u001b[1;33m\u001b[0m\u001b[1;33m\u001b[0m\u001b[0m\n",
      "\u001b[1;31mKeyError\u001b[0m: 'dropoff_latitude_round3'"
     ]
    }
   ],
   "source": [
    "# now interactive! - but only a subset of trips\n",
    "\n",
    "drop_map = folium.Map(location = [40.730610,-73.935242],zoom_start = 12,)\n",
    "#print(pickup.shape)\n",
    "### For each pickup point add a circlemarker\n",
    "\n",
    "for index, row in train[0:1000].iterrows():\n",
    "    \n",
    "    folium.CircleMarker([row['dropoff_latitude_round3'], row['dropoff_longitude_round3']],\n",
    "                        radius=3,\n",
    "                        \n",
    "                        color=\"#008000\", \n",
    "                        fill_opacity=0.9\n",
    "                       ).add_to(drop_map)\n",
    "for index, row in train[0:1000].iterrows():\n",
    "    \n",
    "    folium.CircleMarker([row['pickup_latitude_round3'], row['pickup_longitude_round3']],\n",
    "                        radius=3,\n",
    "                        \n",
    "                        color=\"blue\", \n",
    "                        fill_opacity=0.9\n",
    "                       ).add_to(drop_map)\n",
    "\n",
    "\n",
    "drop_map"
   ]
  },
  {
   "cell_type": "markdown",
   "metadata": {
    "_uuid": "1557f0e1c8e640f06ef481713564dc5b3d343794"
   },
   "source": [
    "**Heatmap based on fare amount across NYC**"
   ]
  },
  {
   "cell_type": "code",
   "execution_count": null,
   "metadata": {
    "_uuid": "1b3f6f3fb3cc2f17790ebe021d73cfdbe5d00290"
   },
   "outputs": [],
   "source": [
    "# Let us round pickup and dropoff lat lng to 3 decimal places\n",
    "train['pickup_latitude_round3']=train['pickup_latitude'].apply(lambda x:round(x,3))\n",
    "train['pickup_longitude_round3']=train['pickup_longitude'].apply(lambda x:round(x,3))\n",
    "train['dropoff_latitude_round3']=train['dropoff_latitude'].apply(lambda x:round(x,3))\n",
    "train['dropoff_longitude_round3']=train['dropoff_longitude'].apply(lambda x:round(x,3))\n"
   ]
  },
  {
   "cell_type": "code",
   "execution_count": null,
   "metadata": {
    "_uuid": "5f73e7a7a4036f5286aa71c5374fb0d077e614a9"
   },
   "outputs": [],
   "source": [
    "pickup_fare_amount=train.groupby(['pickup_latitude_round3','pickup_longitude_round3'])['fare_amount'].mean().reset_index().rename(columns={'fare_amount':'avg_fare'})\n",
    "pickup_fare_amount.head()"
   ]
  },
  {
   "cell_type": "markdown",
   "metadata": {
    "_uuid": "edc4cb82a0e4567e23cec3696773e250bd4cc306"
   },
   "source": [
    "## In the scatter plot, we saw the high density of pickups and dropoffs from and to JFK and La Guardia Airport\n",
    "Let's visualize some of these trips\n"
   ]
  },
  {
   "cell_type": "code",
   "execution_count": null,
   "metadata": {
    "_uuid": "8ab9fcc6394e03c7eb7a5b19d6940a13161c440c"
   },
   "outputs": [],
   "source": [
    "JFK={'min_lng':-73.8352,\n",
    "     'min_lat':40.6195,\n",
    "     'max_lng':-73.7401, \n",
    "     'max_lat':40.6659}\n",
    "JFK_center=[40.6437,-73.7900]\n",
    "# Get all pickups to JFK\n",
    "JFK_data=train.loc[(train.pickup_latitude>=JFK['min_lat']) & (train.pickup_latitude<=JFK['max_lat'])]\n",
    "JFK_data=JFK_data.loc[(train.pickup_longitude>=JFK['min_lng']) & (train.pickup_longitude<=JFK['max_lng'])]\n",
    "\n",
    "print(\"Number of Trips with Pickups from JFK\",JFK_data.shape[0])\n",
    "\n",
    "JFK_dropoff=train.loc[(train.dropoff_latitude>=JFK['min_lat']) & (train.dropoff_latitude<=JFK['max_lat'])]\n",
    "JFK_dropoff=JFK_dropoff.loc[(train.dropoff_longitude>=JFK['min_lng']) & (train.dropoff_longitude<=JFK['max_lng'])]\n",
    "\n",
    "print(\"Number of Trips with Dropoffs to JFK\",JFK_dropoff.shape[0])"
   ]
  },
  {
   "cell_type": "code",
   "execution_count": null,
   "metadata": {
    "_uuid": "8ab9fcc6394e03c7eb7a5b19d6940a13161c440c"
   },
   "outputs": [],
   "source": [
    "# Create a folium map with JFK as the center \n",
    "m=folium.Map(location =JFK_center,zoom_start = 10,)\n",
    "folium.Marker(location=JFK_center, popup='JFK Airport',icon=folium.Icon(color='black')).add_to(m)\n",
    "\n",
    "for index,row in JFK_data[0:250].iterrows(): #show only first 250\n",
    "    folium.Marker([row['dropoff_latitude'],row['dropoff_longitude']]).add_to(m)\n",
    "\n",
    "#call map\n",
    "m    "
   ]
  },
  {
   "cell_type": "markdown",
   "metadata": {
    "_uuid": "8a5b648382b4dd32756aa727ca10abec372724dd"
   },
   "source": [
    "**What is the Average Fare amount of trips from JFK**"
   ]
  },
  {
   "cell_type": "code",
   "execution_count": null,
   "metadata": {
    "_uuid": "d6e63b9f35f46d8c7fab4082bcf36b526eec0c3d"
   },
   "outputs": [],
   "source": [
    "plt.figure(figsize=(8,5))\n",
    "sns.kdeplot(np.log(JFK_data['fare_amount'].values),label='JFK Pickups')\n",
    "#sns.kdeplot(np.log(JFK_dropoff['fare_amount'].values),label='JFK Dropoff')\n",
    "sns.kdeplot(np.log(train['fare_amount'].values),label='All Trips in Train data')\n",
    "plt.title(\"Fare Amount Distribution\")"
   ]
  },
  {
   "cell_type": "markdown",
   "metadata": {
    "_uuid": "d2896892a40c422e5b780213a60983d70ea6f09b"
   },
   "source": [
    "As we can see, the fare amount is much higher when pickup is from JFK."
   ]
  },
  {
   "cell_type": "code",
   "execution_count": null,
   "metadata": {
    "_uuid": "c94280f7535ab0564abca297431a6ef34ca5a400"
   },
   "outputs": [],
   "source": [
    "#execute too free memory\n",
    "del JFK_data\n",
    "del JFK\n",
    "del JFK_dropoff\n"
   ]
  },
  {
   "cell_type": "markdown",
   "metadata": {
    "_uuid": "e57a91ecdca1c8f686c8ffefa11faf4b0433abc7"
   },
   "source": [
    " Distribution of fare amount for  both pickup and dropoff to JFK is similar"
   ]
  },
  {
   "cell_type": "code",
   "execution_count": null,
   "metadata": {
    "_uuid": "3e2dc30df82c2a759dd916508c58d4dd37ddd95b"
   },
   "outputs": [],
   "source": [
    "## Based on the above, let us create a function to see whether pickup or dropoff is an Airport. \n",
    "\n",
    "'''\n",
    "def isAirport(latitude,longitude,airport_name='JFK'):\n",
    "    if airport_name=='JFK':\n",
    "        boundary={'min_lng':-73.8352,\n",
    "     'min_lat':40.6195,\n",
    "     'max_lng':-73.7401, \n",
    "     'max_lat':40.6659}\n",
    "    elif airport_name=='EWR':\n",
    "        boundary={\n",
    "            'min_lng':-74.1925,\n",
    "            'min_lat':40.6700, \n",
    "            'max_lng':-74.1531, \n",
    "            'max_lat':40.7081\n",
    "\n",
    "        }\n",
    "    elif airport_name=='la guardia':\n",
    "        boundary={'min_lng':-73.8895, \n",
    "                  'min_lat':40.7664, \n",
    "                  'max_lng':-73.8550, \n",
    "                  'max_lat':40.7931\n",
    "                 }\n",
    "    if latitude>=boundary['min_lat'] and latitude<=boundary['max_lat']:\n",
    "        if longitude>=boundary['min_lng'] and longitude<=boundary['max_lng']:\n",
    "            return 1\n",
    "    else:\n",
    "        return 0\n",
    "        \n",
    "\n",
    "\n",
    "'''\n",
    "\n",
    "nyc_airports={'JFK':{'min_lng':-73.8352,\n",
    "     'min_lat':40.6195,\n",
    "     'max_lng':-73.7401, \n",
    "     'max_lat':40.6659},\n",
    "              \n",
    "    'EWR':{'min_lng':-74.1925,\n",
    "            'min_lat':40.6700, \n",
    "            'max_lng':-74.1531, \n",
    "            'max_lat':40.7081\n",
    "\n",
    "        },\n",
    "    'LaGuardia':{'min_lng':-73.8895, \n",
    "                  'min_lat':40.7664, \n",
    "                  'max_lng':-73.8550, \n",
    "                  'max_lat':40.7931\n",
    "        \n",
    "    }\n",
    "    \n",
    "}\n",
    "def isAirport(latitude,longitude,airport_name='JFK'):\n",
    "    \n",
    "    if latitude>=nyc_airports[airport_name]['min_lat'] and latitude<=nyc_airports[airport_name]['max_lat'] and longitude>=nyc_airports[airport_name]['min_lng'] and longitude<=nyc_airports[airport_name]['max_lng']:\n",
    "        return 1\n",
    "    else:\n",
    "        return 0\n",
    "        \n"
   ]
  },
  {
   "cell_type": "code",
   "execution_count": null,
   "metadata": {
    "_uuid": "ee5973d0fa3f0e85f73fa7a58893dcdbacf8b91e"
   },
   "outputs": [],
   "source": [
    "train['is_pickup_JFK']=train.apply(lambda row:isAirport(row['pickup_latitude'],row['pickup_longitude'],'JFK'),axis=1)\n",
    "train['is_dropoff_JFK']=train.apply(lambda row:isAirport(row['dropoff_latitude'],row['dropoff_longitude'],'JFK'),axis=1)"
   ]
  },
  {
   "cell_type": "code",
   "execution_count": null,
   "metadata": {
    "_uuid": "ef012ea7dab72c9a40fe2f2b72dca7e65a90b048"
   },
   "outputs": [],
   "source": [
    "train['is_pickup_EWR']=train.apply(lambda row:isAirport(row['pickup_latitude'],row['pickup_longitude'],'EWR'),axis=1)\n",
    "train['is_dropoff_EWR']=train.apply(lambda row:isAirport(row['dropoff_latitude'],row['dropoff_longitude'],'EWR'),axis=1)"
   ]
  },
  {
   "cell_type": "code",
   "execution_count": null,
   "metadata": {
    "_uuid": "c7b01ae39119553b3711b90e75bbab00e36ebd86"
   },
   "outputs": [],
   "source": [
    "train['is_pickup_la_guardia']=train.apply(lambda row:isAirport(row['pickup_latitude'],row['pickup_longitude'],'LaGuardia'),axis=1)\n",
    "train['is_dropoff_la_guardia']=train.apply(lambda row:isAirport(row['dropoff_latitude'],row['dropoff_longitude'],'LaGuardia'),axis=1)"
   ]
  },
  {
   "cell_type": "markdown",
   "metadata": {
    "_uuid": "ee1b236413bca137b8442b7790542632c6f26c10"
   },
   "source": [
    "**Trip Distance**"
   ]
  },
  {
   "cell_type": "code",
   "execution_count": null,
   "metadata": {
    "_uuid": "783676cde5ce39c18b22ea543b94c9269d313c85"
   },
   "outputs": [],
   "source": [
    "#calculate trip distance in miles\n",
    "def distance(lat1, lat2, lon1,lon2):\n",
    "    p = 0.017453292519943295 # Pi/180\n",
    "    a = 0.5 - np.cos((lat2 - lat1) * p)/2 + np.cos(lat1 * p) * np.cos(lat2 * p) * (1 - np.cos((lon2 - lon1) * p)) / 2\n",
    "    return 0.6213712 * 12742 * np.arcsin(np.sqrt(a))"
   ]
  },
  {
   "cell_type": "code",
   "execution_count": null,
   "metadata": {
    "_uuid": "d980d9db974ee3ecd83c31d443cf362e3ff40d61"
   },
   "outputs": [],
   "source": [
    "train['trip_distance']=train.apply(lambda row:distance(row['pickup_latitude'],row['dropoff_latitude'],row['pickup_longitude'],row['dropoff_longitude']),axis=1)"
   ]
  },
  {
   "cell_type": "code",
   "execution_count": null,
   "metadata": {
    "_uuid": "14fb8e418eb801913f4d8fd8ed3555a93c57cc0d"
   },
   "outputs": [],
   "source": [
    "sns.kdeplot((train['trip_distance'].values)).set_title(\"Distribution of Trip Distance in Miles\")"
   ]
  },
  {
   "cell_type": "code",
   "execution_count": null,
   "metadata": {
    "_uuid": "6d4a51968e351a2f63f52b2521e74632806f0a53"
   },
   "outputs": [],
   "source": [
    "plt.scatter(x=train['trip_distance'],y=train['fare_amount'])\n",
    "plt.xlabel(\"Trip Distance\")\n",
    "plt.ylabel(\"Fare Amount\")\n"
   ]
  },
  {
   "cell_type": "markdown",
   "metadata": {
    "_uuid": "5d86de88b08f5490a63f1607d945df014d43d617"
   },
   "source": [
    "The fare seems to be fixed for trip distances > 50 miles. Normally airports pickup or dropoff have fixed prices.\n",
    "We can remove the airport pickup and dropoff and plot the distribution of Fare Amount vs Trip distribution "
   ]
  },
  {
   "cell_type": "code",
   "execution_count": null,
   "metadata": {
    "_uuid": "7a993656c88c7fcf6f8b6d7a45b52400385510b4"
   },
   "outputs": [],
   "source": [
    "non_airport=train.loc[(train['is_dropoff_JFK']==0) & (train['is_dropoff_EWR']==0) & (train['is_dropoff_la_guardia']==0)]\n",
    "non_airport=non_airport.loc[(non_airport['is_pickup_JFK']==0) & (non_airport['is_pickup_EWR']==0) & (non_airport['is_pickup_la_guardia']==0)]\n",
    "non_airport.shape"
   ]
  },
  {
   "cell_type": "code",
   "execution_count": null,
   "metadata": {
    "_uuid": "dd2cc43d04610a009f774cad1ec418271681d8d2"
   },
   "outputs": [],
   "source": [
    "plt.scatter(x=non_airport['trip_distance'],y=non_airport['fare_amount'])\n",
    "plt.xlabel(\"Trip Distance\")\n",
    "plt.ylabel(\"Fare Amount\")\n",
    "plt.title(\"Trip Distance vs Fare Amount (excluding airport rides)\")"
   ]
  },
  {
   "cell_type": "markdown",
   "metadata": {
    "_uuid": "0109404e023e2049ec16d3da64c31b2f052731ee"
   },
   "source": [
    "In the plot above, we can see two clusters with linear realtionship between taxi fare and distance. But for trip distances >50miles, though a linear relationship exists,the fare amount is very low. Let us check where these trips originate and end"
   ]
  },
  {
   "cell_type": "code",
   "execution_count": null,
   "metadata": {
    "_uuid": "7db470c808784bc5afc2481309aa1be1e7aedb82"
   },
   "outputs": [],
   "source": [
    "non_airport_long_trips=non_airport[non_airport['trip_distance']>=50]"
   ]
  },
  {
   "cell_type": "code",
   "execution_count": null,
   "metadata": {},
   "outputs": [],
   "source": [
    "np.shape(non_airport_long_trips)"
   ]
  },
  {
   "cell_type": "code",
   "execution_count": null,
   "metadata": {
    "_uuid": "b5dc516bd23f101c6a4b685380cb9405635c9962"
   },
   "outputs": [],
   "source": [
    "drop_map = folium.Map(location = [40.730610,-73.935242],zoom_start = 12,)\n",
    "#print(pickup.shape)\n",
    "### For each pickup point add a circlemarker\n",
    "\n",
    "for index, row in non_airport_long_trips.iterrows():\n",
    "    \n",
    "    folium.CircleMarker([row['dropoff_latitude_round3'], row['dropoff_longitude_round3']],\n",
    "                        radius=3,\n",
    "                        \n",
    "                        color=\"#008000\", \n",
    "                        fill_opacity=0.9\n",
    "                       ).add_to(drop_map)\n",
    "for index, row in non_airport_long_trips.iterrows():\n",
    "    \n",
    "    folium.CircleMarker([row['pickup_latitude_round3'], row['pickup_longitude_round3']],\n",
    "                        radius=3,\n",
    "                        \n",
    "                        color=\"blue\", \n",
    "                        fill_opacity=0.9\n",
    "                       ).add_to(drop_map)\n",
    "\n",
    "\n",
    "drop_map"
   ]
  },
  {
   "cell_type": "markdown",
   "metadata": {
    "_uuid": "5e87f6348af019a4ed787ddab74eac05037d053a"
   },
   "source": [
    "Most of the long trips dropoffs and pickups are in lower Manhattan. There are a lot of dropoffs in Brooklyn"
   ]
  },
  {
   "cell_type": "markdown",
   "metadata": {
    "_uuid": "cb99455c0df55343dd866aeee4e0e28319b1742f"
   },
   "source": [
    "New York city is divided into 7 Boroughs. Let us calculate which borough pickup and dropoff points are. And whether that effects the fare"
   ]
  },
  {
   "cell_type": "code",
   "execution_count": null,
   "metadata": {
    "_uuid": "8cb2163300ad029a3f222fcdc3eee7b51465a0f4"
   },
   "outputs": [],
   "source": [
    "nyc_boroughs={\n",
    "    'manhattan':{\n",
    "        'min_lng':-74.0479,\n",
    "        'min_lat':40.6829,\n",
    "        'max_lng':-73.9067,\n",
    "        'max_lat':40.8820\n",
    "    },\n",
    "    \n",
    "    'queens':{\n",
    "        'min_lng':-73.9630,\n",
    "        'min_lat':40.5431,\n",
    "        'max_lng':-73.7004,\n",
    "        'max_lat':40.8007\n",
    "\n",
    "    },\n",
    "\n",
    "    'brooklyn':{\n",
    "        'min_lng':-74.0421,\n",
    "        'min_lat':40.5707,\n",
    "        'max_lng':-73.8334,\n",
    "        'max_lat':40.7395\n",
    "\n",
    "    },\n",
    "\n",
    "    'bronx':{\n",
    "        'min_lng':-73.9339,\n",
    "        'min_lat':40.7855,\n",
    "        'max_lng':-73.7654,\n",
    "        'max_lat':40.9176\n",
    "\n",
    "    },\n",
    "\n",
    "    'staten_island':{\n",
    "        'min_lng':-74.2558,\n",
    "        'min_lat':40.4960,\n",
    "        'max_lng':-74.0522,\n",
    "        'max_lat':40.6490\n",
    "\n",
    "    }\n",
    "    \n",
    "    \n",
    "    \n",
    "}"
   ]
  },
  {
   "cell_type": "code",
   "execution_count": null,
   "metadata": {
    "_uuid": "47c337ab893721f8b11299ca968337480e3b7d91"
   },
   "outputs": [],
   "source": [
    "def getBorough(lat,lng):\n",
    "    \n",
    "    locs=nyc_boroughs.keys()\n",
    "    for loc in locs:\n",
    "        if lat>=nyc_boroughs[loc]['min_lat'] and lat<=nyc_boroughs[loc]['max_lat'] and lng>=nyc_boroughs[loc]['min_lng'] and lng<=nyc_boroughs[loc]['max_lng']:\n",
    "            return loc\n",
    "    return 'others'\n",
    "\n",
    "        "
   ]
  },
  {
   "cell_type": "code",
   "execution_count": null,
   "metadata": {
    "_uuid": "1f17843beffbf412afc14896547e543d11819593"
   },
   "outputs": [],
   "source": [
    "train['pickup_borough']=train.apply(lambda row:getBorough(row['pickup_latitude'],row['pickup_longitude']),axis=1)\n",
    "train['dropoff_borough']=train.apply(lambda row:getBorough(row['dropoff_latitude'],row['dropoff_longitude']),axis=1)\n"
   ]
  },
  {
   "cell_type": "code",
   "execution_count": null,
   "metadata": {
    "_uuid": "b104ff03ad29e43690a7c78b60a96420d890b5fe"
   },
   "outputs": [],
   "source": [
    "#save features so far \n",
    "train.to_csv(\"Training_FeatureEngineering.csv\",index=False)\n",
    "del train"
   ]
  },
  {
   "cell_type": "markdown",
   "metadata": {
    "_uuid": "b50b8dea0e71acbabff0225a64519c767bd8221c"
   },
   "source": [
    "### How does the tripfare vary across buroughs"
   ]
  },
  {
   "cell_type": "code",
   "execution_count": null,
   "metadata": {
    "_uuid": "2d600c07052327c21eb2a312603db0d0f6324eb2"
   },
   "outputs": [],
   "source": [
    "train=pd.read_csv(\"Training_FeatureEngineering.csv\")\n",
    "plt.figure(figsize=(8,5))\n",
    "sns.countplot(y=train['pickup_borough'])\n",
    "plt.title(\"Distribution of Pickup Boroughs\")"
   ]
  },
  {
   "cell_type": "code",
   "execution_count": null,
   "metadata": {
    "_uuid": "9ea6606331f354b54c3bd3e205fb9961c72b75bb"
   },
   "outputs": [],
   "source": [
    "\n",
    "\n",
    "plt.figure(figsize=(16,10))\n",
    "plt.title(\"Distribution of Fare Amount Across Buroughs\")\n",
    "i=1\n",
    "for key in nyc_boroughs.keys():\n",
    "    plt.subplot(3,2,i)\n",
    "    sns.kdeplot(np.log(train.loc[train['pickup_borough']==key,'fare_amount'].values+0.00001),label='Pickup '+ key)\n",
    "    sns.kdeplot(np.log(train.loc[train['dropoff_borough']==key,'fare_amount'].values+0.00001),label='Dropoff'+ key).set_title(\"Fare Amount (log scale) for \"+key)\n",
    "    \n",
    "    i=i+1\n"
   ]
  },
  {
   "cell_type": "markdown",
   "metadata": {
    "_uuid": "fe511cd51b5b482bfa55fe83184bd46493e9e0c6"
   },
   "source": [
    "There is a significant difference in pickups and dropoffs fare amount for each burough exceept Manhattan. We can see pickups from Queens is expensive compared to pickups from other Buroughs.Very high difference in pickup and dropoff prices for Staten Island."
   ]
  },
  {
   "cell_type": "code",
   "execution_count": null,
   "metadata": {
    "_uuid": "f674e94c5a0315e26a172dfc8d5fc0178b7b0588"
   },
   "outputs": [],
   "source": [
    "plt.figure(figsize=(24,15))\n",
    "plt.title(\"Distribution of Trip Distances Across Buroughs\")\n",
    "i=1\n",
    "for key in nyc_boroughs.keys():\n",
    "    plt.subplot(3,2,i)\n",
    "    sns.kdeplot(np.log(train.loc[train['pickup_borough']==key,'trip_distance'].values+0.00001),label='Pickup '+ key)\n",
    "    sns.kdeplot(np.log(train.loc[train['dropoff_borough']==key,'trip_distance'].values+0.00001),label='Dropoff'+ key).set_title(\"Trip Distance (log scale) for \"+key)\n",
    "    i=i+1"
   ]
  },
  {
   "cell_type": "markdown",
   "metadata": {
    "_uuid": "b1e07c3c654d166c226c00cd0de95fba8fbab53b"
   },
   "source": [
    "Dropoffs to Bronx and Staten island are long trips. In Manhattan the pickup and dropoffs fare amount has similar distribution. Let us add a field, is_lower_manhattan as we had seen above that dropoffs to lower manhattan had higher trip distance but lower fare"
   ]
  },
  {
   "cell_type": "code",
   "execution_count": null,
   "metadata": {
    "_uuid": "6a14c4f0fbef9e854fb7ef127c631a334816453a"
   },
   "outputs": [],
   "source": [
    "\n",
    "lower_manhattan_boundary={'min_lng': -74.0194,\n",
    "                          'min_lat':40.6997,\n",
    "                          'max_lng':-73.9716,\n",
    "                          'max_lat':40.7427}\n",
    "\n",
    "def isLowerManhattan(lat,lng):\n",
    "    if lat>=lower_manhattan_boundary['min_lat'] and lat<=lower_manhattan_boundary['max_lat'] and lng>=lower_manhattan_boundary['min_lng'] and lng<=lower_manhattan_boundary['max_lng']:\n",
    "        return 1\n",
    "    else:\n",
    "        return 0\n",
    "    "
   ]
  },
  {
   "cell_type": "code",
   "execution_count": null,
   "metadata": {
    "_uuid": "8da666cd1194da01c1bc6d86fae1ca28886031d4"
   },
   "outputs": [],
   "source": [
    "train['is_pickup_lower_manhattan']=train.apply(lambda row:isLowerManhattan(row['pickup_latitude'],row['pickup_longitude']),axis=1)\n",
    "train['is_dropoff_lower_manhattan']=train.apply(lambda row:isLowerManhattan(row['dropoff_latitude'],row['dropoff_longitude']),axis=1)"
   ]
  },
  {
   "cell_type": "markdown",
   "metadata": {
    "_uuid": "3bf49c1866f920c9a5e9f760170cf13d676137a8"
   },
   "source": [
    "**How does Fare Amount differ for pickups and dropoff for Lower Manhattan compared to rest of Manhattan**"
   ]
  },
  {
   "cell_type": "code",
   "execution_count": null,
   "metadata": {
    "_uuid": "f687dfc08c8f119d23c30ac04305688aef6c906e"
   },
   "outputs": [],
   "source": [
    "manhattan=train.loc[(train['pickup_borough']=='manhattan') | (train['dropoff_borough']=='manhattan')]\n",
    "manhattan.shape"
   ]
  },
  {
   "cell_type": "code",
   "execution_count": null,
   "metadata": {
    "_uuid": "8aea0bc7667b0ed01386b84109ddb67e9e6d2941"
   },
   "outputs": [],
   "source": [
    "plt.figure(figsize=(8,5))\n",
    "sns.kdeplot(np.log(manhattan.loc[manhattan['is_pickup_lower_manhattan']==1,'fare_amount'].values+0.00001),label='Lower Manhattan Pickups')\n",
    "sns.kdeplot(np.log(manhattan.loc[manhattan['is_pickup_lower_manhattan']==0,'fare_amount'].values+0.00001),label='Rest of Manhattan Pickups')\n",
    "plt.xlabel(\"fare amount (log)\")\n",
    "plt.title(\"Distribution of Fare Amount - Manhattan vs Lower Manhattan\")"
   ]
  },
  {
   "cell_type": "code",
   "execution_count": null,
   "metadata": {
    "_uuid": "427068eb1e1d7dd0b1a06bd6621bfa55d842de96"
   },
   "outputs": [],
   "source": [
    "plt.figure(figsize=(8,5))\n",
    "sns.kdeplot(np.log(manhattan.loc[manhattan['is_dropoff_lower_manhattan']==1,'fare_amount'].values+0.00001),label='Lower Manhattan Dropoffs')\n",
    "sns.kdeplot(np.log(manhattan.loc[manhattan['is_dropoff_lower_manhattan']==0,'fare_amount'].values+0.00001),label='Rest of Manhattan Dropoffs')\n",
    "plt.xlabel(\"fare amount (log)\")\n",
    "plt.title(\"Distribution of Fare Amount - Manhattan vs Lower Manhattan\")"
   ]
  },
  {
   "cell_type": "code",
   "execution_count": null,
   "metadata": {
    "_uuid": "39b15afbf2ae67ac1bc4162fcef586ecf3ac576f"
   },
   "outputs": [],
   "source": [
    "plt.scatter(x=manhattan.loc[manhattan['is_pickup_lower_manhattan']==1,'trip_distance'].values,y=manhattan.loc[manhattan['is_pickup_lower_manhattan']==1,'fare_amount'].values)\n",
    "plt.xlabel(\"Trip Distance\")\n",
    "plt.ylabel(\"Fare Amount\")\n",
    "plt.title(\"Trip Distance vs Fare Amount (Lower Manhattan pickups)\")"
   ]
  },
  {
   "cell_type": "code",
   "execution_count": null,
   "metadata": {
    "_uuid": "3f160ba7905a385c7a3c01824ee84a48d8aeb380"
   },
   "outputs": [],
   "source": [
    "plt.scatter(x=manhattan.loc[manhattan['is_pickup_lower_manhattan']==0,'trip_distance'].values,y=manhattan.loc[manhattan['is_pickup_lower_manhattan']==0,'fare_amount'].values)\n",
    "plt.xlabel(\"Trip Distance\")\n",
    "plt.ylabel(\"Fare Amount\")\n",
    "plt.title(\"Trip Distance vs Fare Amount (Rest of Manhattan pickups)\")"
   ]
  },
  {
   "cell_type": "code",
   "execution_count": null,
   "metadata": {
    "_uuid": "34f1be8bb977f34b874029a0c28c5f45545cff9a"
   },
   "outputs": [],
   "source": [
    "plt.scatter(x=manhattan.loc[manhattan['is_dropoff_lower_manhattan']==1,'trip_distance'].values,y=manhattan.loc[manhattan['is_dropoff_lower_manhattan']==1,'fare_amount'].values)\n",
    "plt.xlabel(\"Trip Distance\")\n",
    "plt.ylabel(\"Fare Amount\")\n",
    "plt.title(\"Trip Distance vs Fare Amount (Lower Manhattan dropoffs)\")"
   ]
  },
  {
   "cell_type": "code",
   "execution_count": null,
   "metadata": {
    "_uuid": "215657288003bdba215f52b11cd1f0245246b030"
   },
   "outputs": [],
   "source": [
    "plt.scatter(x=manhattan.loc[manhattan['is_dropoff_lower_manhattan']==0,'trip_distance'].values,y=manhattan.loc[manhattan['is_dropoff_lower_manhattan']==0,'fare_amount'].values)\n",
    "plt.xlabel(\"Trip Distance\")\n",
    "plt.ylabel(\"Fare Amount\")\n",
    "plt.title(\"Trip Distance vs Fare Amount (Rest of Manhattan dropoffs)\")\n",
    "\n",
    "del manhattan\n",
    "del non_airport_long_trips\n",
    "del non_airport"
   ]
  },
  {
   "cell_type": "markdown",
   "metadata": {
    "_uuid": "4d61006d912a8450f5e568c11a4ae2a1ba5ed01b"
   },
   "source": [
    "The distribution of trip distance and fare amount for Lower Manhattan pickups and dropoffs is very different. Also, slope of linear realtionship for pickups for Lower Manhattan is higher than that for Rest of Manhattan"
   ]
  },
  {
   "cell_type": "markdown",
   "metadata": {
    "_uuid": "3dfa849ab2b840b4d9581723e29e26557a20a05d"
   },
   "source": [
    "### Let us now look at datetime features and their realtionship with Fare Amount\n",
    "**What is the time period  in out sample**"
   ]
  },
  {
   "cell_type": "code",
   "execution_count": null,
   "metadata": {
    "_uuid": "4056994051175fcaca557258127a51bd1bb20892"
   },
   "outputs": [],
   "source": [
    "trips_year=train.groupby(['pickup_year'])['key'].count().reset_index().rename(columns={'key':'Num_Trips'})\n",
    "trips_year.head()\n",
    "sns.barplot(x='pickup_year',y='Num_Trips',data=trips_year)"
   ]
  },
  {
   "cell_type": "code",
   "execution_count": null,
   "metadata": {
    "_uuid": "7d759caa556b527da4196cc6a433569bc3a77b62"
   },
   "outputs": [],
   "source": [
    "trips_year_fareamount=train.groupby(['pickup_year'])['fare_amount'].mean().reset_index().rename(columns={'fare_amount':'avg_fare_amount'})"
   ]
  },
  {
   "cell_type": "code",
   "execution_count": null,
   "metadata": {
    "_uuid": "5a00352671e1c751e926ceb8e3dc42edd7bfb58c"
   },
   "outputs": [],
   "source": [
    "sns.barplot(x='pickup_year',y='avg_fare_amount',data=trips_year_fareamount).set_title(\"Avg Fare Amount over Years\")"
   ]
  },
  {
   "cell_type": "markdown",
   "metadata": {
    "_uuid": "c851b55bbf5031dec2a5e9a69a325fbc0fb5b524"
   },
   "source": [
    "Avg Fare amount has beern increasing over the years."
   ]
  },
  {
   "cell_type": "code",
   "execution_count": null,
   "metadata": {
    "_uuid": "a27285890fa760c4e4405a7bd157144c0fb08d4d"
   },
   "outputs": [],
   "source": [
    "def groupandplot(data,groupby_key,value,aggregate='mean'):\n",
    "    plt.figure(figsize=(16,10))\n",
    "    agg_data=data.groupby([groupby_key])[value].agg(aggregate).reset_index().rename(columns={value:aggregate+'_'+value})\n",
    "    plt.subplot(1,2,1)\n",
    "    count_data=train.groupby([groupby_key])['key'].count().reset_index().rename(columns={'key':'Num_Trips'})\n",
    "    sns.barplot(x=groupby_key,y='Num_Trips',data=count_data).set_title(\"Number of Trips vs \"+groupby_key)\n",
    "    \n",
    "    plt.subplot(1,2,2)\n",
    "    sns.barplot(x=groupby_key,y=aggregate+'_'+value,data=agg_data).set_title(aggregate+'_'+value+\" vs \"+groupby_key)\n",
    "\n",
    "    "
   ]
  },
  {
   "cell_type": "code",
   "execution_count": null,
   "metadata": {
    "_uuid": "f98b47e9bafb35b7e30d85461b2ff413a1f321ab"
   },
   "outputs": [],
   "source": [
    "groupandplot(train,'pickup_month','fare_amount')"
   ]
  },
  {
   "cell_type": "markdown",
   "metadata": {
    "_uuid": "f3227dc003505cdb1f046887ba25135873daad9c"
   },
   "source": [
    "Fares across months are fairly constant, though number of trips are lower from june to decemeber"
   ]
  },
  {
   "cell_type": "code",
   "execution_count": null,
   "metadata": {
    "_uuid": "831bdfc81813491d68e3ab4da0da4b487efe0ee5"
   },
   "outputs": [],
   "source": [
    "groupandplot(train,'pickup_day_of_week','fare_amount')"
   ]
  },
  {
   "cell_type": "markdown",
   "metadata": {
    "_uuid": "981cdce1148a9a8cd3599481301b48fe8faa3b7b"
   },
   "source": [
    "Saturday has low avg fare amount, compared to other days though there are a lot of trips of saturday. On sunday and monday though the number of trips are lower, avg fare amount is higher"
   ]
  },
  {
   "cell_type": "code",
   "execution_count": null,
   "metadata": {
    "_uuid": "2a19d5a1171d10510e9e4d5c8626de00f0d343d1"
   },
   "outputs": [],
   "source": [
    "groupandplot(train,'pickup_hour','fare_amount')"
   ]
  },
  {
   "cell_type": "markdown",
   "metadata": {
    "_uuid": "8929cdd48af80ee93dfce2e0b26b6ea7735b7ab1"
   },
   "source": [
    "The avg fare amount at 5am is the higher while the number of trips at 5 am are the least. The number of trips are highest in 18 and 19 hours"
   ]
  },
  {
   "cell_type": "code",
   "execution_count": null,
   "metadata": {
    "_uuid": "69f414f735628d3bdf8335e4ae96c1f314f613e8"
   },
   "outputs": [],
   "source": [
    "# Let us encode day of the week to numbers\n",
    "def encodeDays(day_of_week):\n",
    "    day_dict={'Sunday':0,'Monday':1,'Tuesday':2,'Wednesday':3,'Thursday':4,'Friday':5,'Saturday':6}\n",
    "    return day_dict[day_of_week]"
   ]
  },
  {
   "cell_type": "code",
   "execution_count": null,
   "metadata": {
    "_uuid": "b1c0187b52c8cd703ed9fe4cac90bd3fcab0d60b"
   },
   "outputs": [],
   "source": [
    "train['pickup_day_of_week']=train['pickup_day_of_week'].apply(lambda x:encodeDays(x))"
   ]
  },
  {
   "cell_type": "markdown",
   "metadata": {
    "_uuid": "a20cdd567775fdf2e2aa354de24f954273702d6a"
   },
   "source": [
    "### How does Number of passengers affect Fare time\n"
   ]
  },
  {
   "cell_type": "code",
   "execution_count": null,
   "metadata": {
    "_uuid": "ad72aa76b1ddde6e3d0d6d199819ae21beaf40cc"
   },
   "outputs": [],
   "source": [
    "\n",
    "groupandplot(train,'passenger_count','fare_amount')"
   ]
  },
  {
   "cell_type": "markdown",
   "metadata": {
    "_uuid": "5a4c6a559e27ad94565179fccee2d09235b53341"
   },
   "source": [
    "1. There are trips with 0 passengers as well. In these cases are drop and pickup location the same? If so it would mean that passenger didnt take the cab after the cab arrived and a cancellation fee was charged - there were 20719 such records. In the test set there were 38 such records\n",
    "2. The fare is very high when there were 9 passengers. - only 2 records\n",
    "3.  the number 129 and 208 passengers are surely outliers - three such records\n",
    "4. There are no records in test data where number of passengers is greater than 8 - so we will remove from train data records where number of passengers >8"
   ]
  },
  {
   "cell_type": "code",
   "execution_count": null,
   "metadata": {
    "_uuid": "7bb8b880dd9d84895c1ca34bba8231eb77ec0eaf"
   },
   "outputs": [],
   "source": [
    "print(\"Avg trip distance (in miles) when there are zero passengers\",np.mean(train.loc[train['passenger_count']==0,'trip_distance'].values))"
   ]
  },
  {
   "cell_type": "code",
   "execution_count": null,
   "metadata": {
    "_uuid": "4cd8cf54895488f16177a3efe8cb5f6874d9b4a1"
   },
   "outputs": [],
   "source": [
    "train=train[train['passenger_count']<=8]"
   ]
  },
  {
   "cell_type": "code",
   "execution_count": null,
   "metadata": {
    "_uuid": "6abc5c373f784c0a92c142ddf337b731d7c073d6"
   },
   "outputs": [],
   "source": [
    "groupandplot(train,'passenger_count','fare_amount')\n"
   ]
  },
  {
   "cell_type": "markdown",
   "metadata": {
    "_uuid": "8981344da83ad3bb0ff67cbd69a722bfccf69e3f"
   },
   "source": [
    " if there are 7 passengers, fare amount is lower. Fare amount is higher for 6 passengers**"
   ]
  },
  {
   "cell_type": "code",
   "execution_count": null,
   "metadata": {
    "_uuid": "8572b9781b0db3c046df30ba415da20e2451ad3b"
   },
   "outputs": [],
   "source": [
    "train.to_csv(\"train_cleaned.csv\",index=False)"
   ]
  },
  {
   "cell_type": "code",
   "execution_count": null,
   "metadata": {
    "_uuid": "3d5fb44e25784466a99587724a815962bcc99ebb"
   },
   "outputs": [],
   "source": [
    "\n",
    "\n",
    "test =  pd.read_csv('../../DATA/NY_taxi_test.csv')\n",
    "test['pickup_datetime']=pd.to_datetime(test['pickup_datetime'],format='%Y-%m-%d %H:%M:%S UTC')\n",
    "\n",
    "test['pickup_date']= test['pickup_datetime'].dt.date\n",
    "test['pickup_day']=test['pickup_datetime'].apply(lambda x:x.day)\n",
    "test['pickup_hour']=test['pickup_datetime'].apply(lambda x:x.hour)\n",
    "test['pickup_day_of_week']=test['pickup_datetime'].apply(lambda x:calendar.day_name[x.weekday()])\n",
    "test['pickup_month']=test['pickup_datetime'].apply(lambda x:x.month)\n",
    "test['pickup_year']=test['pickup_datetime'].apply(lambda x:x.year)\n",
    "test['is_pickup_JFK']=test.apply(lambda row:isAirport(row['pickup_latitude'],row['pickup_longitude'],'JFK'),axis=1)\n",
    "test['is_dropoff_JFK']=test.apply(lambda row:isAirport(row['dropoff_latitude'],row['dropoff_longitude'],'JFK'),axis=1)\n",
    "test['is_pickup_EWR']=test.apply(lambda row:isAirport(row['pickup_latitude'],row['pickup_longitude'],'EWR'),axis=1)\n",
    "test['is_dropoff_EWR']=test.apply(lambda row:isAirport(row['dropoff_latitude'],row['dropoff_longitude'],'EWR'),axis=1)\n",
    "test['is_pickup_la_guardia']=test.apply(lambda row:isAirport(row['pickup_latitude'],row['pickup_longitude'],'LaGuardia'),axis=1)\n",
    "test['is_dropoff_la_guardia']=test.apply(lambda row:isAirport(row['dropoff_latitude'],row['dropoff_longitude'],'LaGuardia'),axis=1)\n",
    "test['pickup_latitude_round3']=test['pickup_latitude'].apply(lambda x:round(x,3))\n",
    "test['pickup_longitude_round3']=test['pickup_longitude'].apply(lambda x:round(x,3))\n",
    "test['dropoff_latitude_round3']=test['dropoff_latitude'].apply(lambda x:round(x,3))\n",
    "test['dropoff_longitude_round3']=test['dropoff_longitude'].apply(lambda x:round(x,3))\n",
    "test['trip_distance']=test.apply(lambda row:distance(row['pickup_latitude'],row['dropoff_latitude'],row['pickup_longitude'],row['dropoff_longitude']),axis=1)\n",
    "test['pickup_borough']=test.apply(lambda row:getBorough(row['pickup_latitude'],row['pickup_longitude']),axis=1)\n",
    "test['dropoff_borough']=test.apply(lambda row:getBorough(row['dropoff_latitude'],row['dropoff_longitude']),axis=1)\n",
    "test['is_pickup_lower_manhattan']=test.apply(lambda row:isLowerManhattan(row['pickup_latitude'],row['pickup_longitude']),axis=1)\n",
    "test['is_dropoff_lower_manhattan']=test.apply(lambda row:isLowerManhattan(row['dropoff_latitude'],row['dropoff_longitude']),axis=1)\n",
    "test['pickup_day_of_week']=test['pickup_day_of_week'].apply(lambda x:encodeDays(x))\n",
    "print(\"Shape of test data\", test.shape)\n",
    "\n",
    "test.to_csv(\"test_cleaned.csv\",index=False)"
   ]
  },
  {
   "cell_type": "markdown",
   "metadata": {
    "_uuid": "00251ef1826bf74523b0f127ce85f6be29997d11"
   },
   "source": [
    "## Build ML Model"
   ]
  },
  {
   "cell_type": "code",
   "execution_count": null,
   "metadata": {
    "_cell_guid": "79c7e3d0-c299-4dcb-8224-4455121ee9b0",
    "_uuid": "d629ff2d2480ee46fbb7e2d37f6b5fab8052498a"
   },
   "outputs": [],
   "source": [
    "train=pd.read_csv('train_cleaned.csv')\n",
    "test=pd.read_csv('test_cleaned.csv')\n",
    "print(\"Shape of Training Data \",train.shape)\n",
    "print(\"Shape of Testing Data \",test.shape)"
   ]
  },
  {
   "cell_type": "markdown",
   "metadata": {
    "_uuid": "70eebd7d72e4b2946cc98a16dc54458cd0f15e8c"
   },
   "source": [
    "### Pre-Processing data\n",
    "\n",
    "1. Remove the unwanted columns like pickup_datetime, key, pickup_date, latitude and longitude rounded to 3 decimal places\n",
    "2. One hot encoding of categorical variables\n",
    "3. Divide training data into train and validation datasets - 80% training and 20% validation"
   ]
  },
  {
   "cell_type": "code",
   "execution_count": null,
   "metadata": {
    "_uuid": "d5bd4c15f784feec9f7bcd181b2dcd2872c10abe"
   },
   "outputs": [],
   "source": [
    "drop_columns=['key','pickup_datetime','pickup_date','pickup_latitude_round3','pickup_longitude_round3','dropoff_latitude_round3','dropoff_longitude_round3']"
   ]
  },
  {
   "cell_type": "code",
   "execution_count": null,
   "metadata": {
    "_uuid": "164b780dc1940aca96551538c525ccdade6e0a87"
   },
   "outputs": [],
   "source": [
    "train_1=train.drop(drop_columns,axis=1)\n",
    "test_1=test.drop(drop_columns,axis=1)\n",
    "print(\"Shape of Training Data after dropping columns\",train_1.shape)\n",
    "print(\"Shape of Testing Data after dropping columns\",test_1.shape)"
   ]
  },
  {
   "cell_type": "code",
   "execution_count": null,
   "metadata": {
    "_uuid": "3edfd231e356fad8c6b567f0cf4a46f1fd95ff9c"
   },
   "outputs": [],
   "source": [
    "train_1=pd.get_dummies(train_1)\n",
    "test_1=pd.get_dummies(test_1)\n",
    "\n",
    "print(\"Shape of Training Data after One Hot Encoding\",train_1.shape)\n",
    "print(\"Shape of Testing Data after One Hot Encoding\",test_1.shape)"
   ]
  },
  {
   "cell_type": "code",
   "execution_count": null,
   "metadata": {
    "_uuid": "f6a1a3c62bd5deba11406536ea57f4dd91710c5e"
   },
   "outputs": [],
   "source": [
    "X=train_1.drop(['fare_amount'],axis=1)\n",
    "y=train_1['fare_amount']\n"
   ]
  },
  {
   "cell_type": "code",
   "execution_count": null,
   "metadata": {
    "_uuid": "89be4c11f8a4f1775b39340fc8c0b89f4b1c6528"
   },
   "outputs": [],
   "source": [
    "#split data into train and validation data\n",
    "X_train, X_test, y_train, y_test = train_test_split(X,y, test_size=0.2)\n",
    "print(\"Number of records in training data \",X_train.shape[0])\n",
    "print(\"Number of records in validation data \",X_test.shape[0])"
   ]
  },
  {
   "cell_type": "markdown",
   "metadata": {
    "_uuid": "3d67358ee0b8b0c467edfd5415f66464202d8df9"
   },
   "source": [
    "### ML Model Building\n",
    "#### Very Simple Linear Regression"
   ]
  },
  {
   "cell_type": "code",
   "execution_count": null,
   "metadata": {
    "_uuid": "79f5ac013809d2a7945cb01dd902bdae52746648"
   },
   "outputs": [],
   "source": [
    "lm = LinearRegression()\n",
    "lm.fit(X_train,y_train)\n",
    "y_pred=lm.predict(X_test)\n",
    "lm_rmse=np.sqrt(mean_squared_error(y_pred, y_test))\n",
    "print(\"RMSE for Linear Regression is \",lm_rmse)"
   ]
  },
  {
   "cell_type": "code",
   "execution_count": null,
   "metadata": {},
   "outputs": [],
   "source": []
  }
 ],
 "metadata": {
  "kernelspec": {
   "display_name": "Python 3",
   "language": "python",
   "name": "python3"
  },
  "language_info": {
   "codemirror_mode": {
    "name": "ipython",
    "version": 3
   },
   "file_extension": ".py",
   "mimetype": "text/x-python",
   "name": "python",
   "nbconvert_exporter": "python",
   "pygments_lexer": "ipython3",
   "version": "3.8.5"
  }
 },
 "nbformat": 4,
 "nbformat_minor": 4
}
