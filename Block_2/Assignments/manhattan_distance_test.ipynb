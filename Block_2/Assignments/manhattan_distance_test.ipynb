{
 "cells": [
  {
   "cell_type": "code",
   "execution_count": 33,
   "metadata": {},
   "outputs": [],
   "source": [
    "import numpy as np"
   ]
  },
  {
   "cell_type": "code",
   "execution_count": 53,
   "metadata": {},
   "outputs": [],
   "source": [
    "# calculate manhattan distance\n",
    "\n",
    "def manhattan_distance(a, b):\n",
    "    return np.sum(np.absolute(np.matrix(a)-np.matrix(b)))"
   ]
  },
  {
   "cell_type": "code",
   "execution_count": 54,
   "metadata": {},
   "outputs": [],
   "source": [
    "# calculate manhattan distance\n",
    "# abs returns the absolut value\n",
    "\n",
    "def manhattan_distance2(a, b):\n",
    "    c=np.matrix(a)-np.matrix(b) #elementweise Differenzbildung\n",
    "    print(c)\n",
    "    absolut = np.absolute(c) #elementweise absolutwert bilden\n",
    "    print(absolut)\n",
    "    dist = np.sum(absolut) #sum of all vektor elements\n",
    "    return dist"
   ]
  },
  {
   "cell_type": "code",
   "execution_count": 55,
   "metadata": {},
   "outputs": [
    {
     "name": "stdout",
     "output_type": "stream",
     "text": [
      "[[ 3 10 -1 -1 -2]]\n",
      "[[ 3 10  1  1  2]]\n",
      "17\n",
      "17\n"
     ]
    }
   ],
   "source": [
    "# Test\n",
    "v1 = [1,7,4,3,6]\n",
    "v2 = [-2,-3,5,4,8]\n",
    "print(manhattan_distance2(v1,v2))\n",
    "print(manhattan_distance(v1,v2))\n"
   ]
  },
  {
   "cell_type": "code",
   "execution_count": null,
   "metadata": {},
   "outputs": [],
   "source": []
  },
  {
   "cell_type": "code",
   "execution_count": null,
   "metadata": {},
   "outputs": [],
   "source": []
  }
 ],
 "metadata": {
  "kernelspec": {
   "display_name": "Python 3",
   "language": "python",
   "name": "python3"
  },
  "language_info": {
   "codemirror_mode": {
    "name": "ipython",
    "version": 3
   },
   "file_extension": ".py",
   "mimetype": "text/x-python",
   "name": "python",
   "nbconvert_exporter": "python",
   "pygments_lexer": "ipython3",
   "version": "3.8.5"
  }
 },
 "nbformat": 4,
 "nbformat_minor": 4
}
